{
 "cells": [
  {
   "cell_type": "code",
   "execution_count": null,
   "id": "a01fd3c0",
   "metadata": {},
   "outputs": [],
   "source": [
    "from llama_index.core import VectorStoreIndex, SimpleDirectoryReader\n",
    "from llama_index.llms.ollama import Ollama"
   ]
  },
  {
   "cell_type": "code",
   "execution_count": null,
   "id": "5cff11ee",
   "metadata": {},
   "outputs": [],
   "source": [
    "# Load documents\n",
    "documents = SimpleDirectoryReader(\"data\").load_data()"
   ]
  },
  {
   "cell_type": "code",
   "execution_count": null,
   "id": "4aa2d454",
   "metadata": {},
   "outputs": [],
   "source": [
    "# Use Gemma 4B via Ollama\n",
    "ollama_llm = Ollama(model=\"gemma3:4b\")"
   ]
  },
  {
   "cell_type": "code",
   "execution_count": null,
   "id": "0afd3dba",
   "metadata": {},
   "outputs": [],
   "source": [
    "# Build index using default embeddings (or add local ones if needed)\n",
    "index = VectorStoreIndex.from_documents(documents, llm=ollama_llm)"
   ]
  },
  {
   "cell_type": "code",
   "execution_count": null,
   "id": "9cd5e460",
   "metadata": {},
   "outputs": [],
   "source": [
    "# Query\n",
    "query_engine = index.as_query_engine()\n",
    "response = query_engine.query(\"What is the first article?\")\n",
    "print(response)"
   ]
  }
 ],
 "metadata": {
  "language_info": {
   "name": "python"
  }
 },
 "nbformat": 4,
 "nbformat_minor": 5
}
