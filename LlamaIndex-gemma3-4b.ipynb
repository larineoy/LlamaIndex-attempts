{
 "cells": [
  {
   "cell_type": "code",
   "execution_count": 20,
   "id": "a01fd3c0",
   "metadata": {},
   "outputs": [
    {
     "name": "stdout",
     "output_type": "stream",
     "text": [
      "Requirement already satisfied: llama-index in /Users/larineouyang/anaconda3/envs/week2/lib/python3.12/site-packages (0.12.42)\n",
      "Requirement already satisfied: langchain-community in /Users/larineouyang/anaconda3/envs/week2/lib/python3.12/site-packages (0.3.25)\n",
      "Requirement already satisfied: sentence-transformers in /Users/larineouyang/anaconda3/envs/week2/lib/python3.12/site-packages (4.1.0)\n",
      "Requirement already satisfied: llama-index-agent-openai<0.5,>=0.4.0 in /Users/larineouyang/anaconda3/envs/week2/lib/python3.12/site-packages (from llama-index) (0.4.11)\n",
      "Requirement already satisfied: llama-index-cli<0.5,>=0.4.2 in /Users/larineouyang/anaconda3/envs/week2/lib/python3.12/site-packages (from llama-index) (0.4.3)\n",
      "Requirement already satisfied: llama-index-core<0.13,>=0.12.42 in /Users/larineouyang/anaconda3/envs/week2/lib/python3.12/site-packages (from llama-index) (0.12.42)\n",
      "Requirement already satisfied: llama-index-embeddings-openai<0.4,>=0.3.0 in /Users/larineouyang/anaconda3/envs/week2/lib/python3.12/site-packages (from llama-index) (0.3.1)\n",
      "Requirement already satisfied: llama-index-indices-managed-llama-cloud>=0.4.0 in /Users/larineouyang/anaconda3/envs/week2/lib/python3.12/site-packages (from llama-index) (0.7.7)\n",
      "Requirement already satisfied: llama-index-llms-openai<0.5,>=0.4.0 in /Users/larineouyang/anaconda3/envs/week2/lib/python3.12/site-packages (from llama-index) (0.4.5)\n",
      "Requirement already satisfied: llama-index-multi-modal-llms-openai<0.6,>=0.5.0 in /Users/larineouyang/anaconda3/envs/week2/lib/python3.12/site-packages (from llama-index) (0.5.1)\n",
      "Requirement already satisfied: llama-index-program-openai<0.4,>=0.3.0 in /Users/larineouyang/anaconda3/envs/week2/lib/python3.12/site-packages (from llama-index) (0.3.2)\n",
      "Requirement already satisfied: llama-index-question-gen-openai<0.4,>=0.3.0 in /Users/larineouyang/anaconda3/envs/week2/lib/python3.12/site-packages (from llama-index) (0.3.1)\n",
      "Requirement already satisfied: llama-index-readers-file<0.5,>=0.4.0 in /Users/larineouyang/anaconda3/envs/week2/lib/python3.12/site-packages (from llama-index) (0.4.9)\n",
      "Requirement already satisfied: llama-index-readers-llama-parse>=0.4.0 in /Users/larineouyang/anaconda3/envs/week2/lib/python3.12/site-packages (from llama-index) (0.4.0)\n",
      "Requirement already satisfied: nltk>3.8.1 in /Users/larineouyang/anaconda3/envs/week2/lib/python3.12/site-packages (from llama-index) (3.9.1)\n",
      "Requirement already satisfied: langchain-core<1.0.0,>=0.3.65 in /Users/larineouyang/anaconda3/envs/week2/lib/python3.12/site-packages (from langchain-community) (0.3.65)\n",
      "Requirement already satisfied: langchain<1.0.0,>=0.3.25 in /Users/larineouyang/anaconda3/envs/week2/lib/python3.12/site-packages (from langchain-community) (0.3.25)\n",
      "Requirement already satisfied: SQLAlchemy<3,>=1.4 in /Users/larineouyang/anaconda3/envs/week2/lib/python3.12/site-packages (from langchain-community) (2.0.38)\n",
      "Requirement already satisfied: requests<3,>=2 in /Users/larineouyang/anaconda3/envs/week2/lib/python3.12/site-packages (from langchain-community) (2.32.4)\n",
      "Requirement already satisfied: PyYAML>=5.3 in /Users/larineouyang/anaconda3/envs/week2/lib/python3.12/site-packages (from langchain-community) (6.0.2)\n",
      "Requirement already satisfied: aiohttp<4.0.0,>=3.8.3 in /Users/larineouyang/anaconda3/envs/week2/lib/python3.12/site-packages (from langchain-community) (3.12.12)\n",
      "Requirement already satisfied: tenacity!=8.4.0,<10,>=8.1.0 in /Users/larineouyang/anaconda3/envs/week2/lib/python3.12/site-packages (from langchain-community) (9.1.2)\n",
      "Requirement already satisfied: dataclasses-json<0.7,>=0.5.7 in /Users/larineouyang/anaconda3/envs/week2/lib/python3.12/site-packages (from langchain-community) (0.6.7)\n",
      "Requirement already satisfied: pydantic-settings<3.0.0,>=2.4.0 in /Users/larineouyang/anaconda3/envs/week2/lib/python3.12/site-packages (from langchain-community) (2.9.1)\n",
      "Requirement already satisfied: langsmith<0.4,>=0.1.125 in /Users/larineouyang/anaconda3/envs/week2/lib/python3.12/site-packages (from langchain-community) (0.3.45)\n",
      "Requirement already satisfied: httpx-sse<1.0.0,>=0.4.0 in /Users/larineouyang/anaconda3/envs/week2/lib/python3.12/site-packages (from langchain-community) (0.4.0)\n",
      "Requirement already satisfied: numpy>=1.26.2 in /Users/larineouyang/anaconda3/envs/week2/lib/python3.12/site-packages (from langchain-community) (2.2.3)\n",
      "Requirement already satisfied: transformers<5.0.0,>=4.41.0 in /Users/larineouyang/anaconda3/envs/week2/lib/python3.12/site-packages (from sentence-transformers) (4.52.4)\n",
      "Requirement already satisfied: tqdm in /Users/larineouyang/anaconda3/envs/week2/lib/python3.12/site-packages (from sentence-transformers) (4.67.1)\n",
      "Requirement already satisfied: torch>=1.11.0 in /Users/larineouyang/anaconda3/envs/week2/lib/python3.12/site-packages (from sentence-transformers) (2.7.1)\n",
      "Requirement already satisfied: scikit-learn in /Users/larineouyang/anaconda3/envs/week2/lib/python3.12/site-packages (from sentence-transformers) (1.7.0)\n",
      "Requirement already satisfied: scipy in /Users/larineouyang/anaconda3/envs/week2/lib/python3.12/site-packages (from sentence-transformers) (1.15.3)\n",
      "Requirement already satisfied: huggingface-hub>=0.20.0 in /Users/larineouyang/anaconda3/envs/week2/lib/python3.12/site-packages (from sentence-transformers) (0.33.0)\n",
      "Requirement already satisfied: Pillow in /Users/larineouyang/anaconda3/envs/week2/lib/python3.12/site-packages (from sentence-transformers) (11.2.1)\n",
      "Requirement already satisfied: typing_extensions>=4.5.0 in /Users/larineouyang/anaconda3/envs/week2/lib/python3.12/site-packages (from sentence-transformers) (4.12.2)\n",
      "Requirement already satisfied: aiohappyeyeballs>=2.5.0 in /Users/larineouyang/anaconda3/envs/week2/lib/python3.12/site-packages (from aiohttp<4.0.0,>=3.8.3->langchain-community) (2.6.1)\n",
      "Requirement already satisfied: aiosignal>=1.1.2 in /Users/larineouyang/anaconda3/envs/week2/lib/python3.12/site-packages (from aiohttp<4.0.0,>=3.8.3->langchain-community) (1.3.2)\n",
      "Requirement already satisfied: attrs>=17.3.0 in /Users/larineouyang/anaconda3/envs/week2/lib/python3.12/site-packages (from aiohttp<4.0.0,>=3.8.3->langchain-community) (25.3.0)\n",
      "Requirement already satisfied: frozenlist>=1.1.1 in /Users/larineouyang/anaconda3/envs/week2/lib/python3.12/site-packages (from aiohttp<4.0.0,>=3.8.3->langchain-community) (1.7.0)\n",
      "Requirement already satisfied: multidict<7.0,>=4.5 in /Users/larineouyang/anaconda3/envs/week2/lib/python3.12/site-packages (from aiohttp<4.0.0,>=3.8.3->langchain-community) (6.4.4)\n",
      "Requirement already satisfied: propcache>=0.2.0 in /Users/larineouyang/anaconda3/envs/week2/lib/python3.12/site-packages (from aiohttp<4.0.0,>=3.8.3->langchain-community) (0.3.2)\n",
      "Requirement already satisfied: yarl<2.0,>=1.17.0 in /Users/larineouyang/anaconda3/envs/week2/lib/python3.12/site-packages (from aiohttp<4.0.0,>=3.8.3->langchain-community) (1.20.1)\n",
      "Requirement already satisfied: marshmallow<4.0.0,>=3.18.0 in /Users/larineouyang/anaconda3/envs/week2/lib/python3.12/site-packages (from dataclasses-json<0.7,>=0.5.7->langchain-community) (3.26.1)\n",
      "Requirement already satisfied: typing-inspect<1,>=0.4.0 in /Users/larineouyang/anaconda3/envs/week2/lib/python3.12/site-packages (from dataclasses-json<0.7,>=0.5.7->langchain-community) (0.9.0)\n",
      "Requirement already satisfied: filelock in /Users/larineouyang/anaconda3/envs/week2/lib/python3.12/site-packages (from huggingface-hub>=0.20.0->sentence-transformers) (3.18.0)\n",
      "Requirement already satisfied: fsspec>=2023.5.0 in /Users/larineouyang/anaconda3/envs/week2/lib/python3.12/site-packages (from huggingface-hub>=0.20.0->sentence-transformers) (2025.5.1)\n",
      "Requirement already satisfied: packaging>=20.9 in /Users/larineouyang/anaconda3/envs/week2/lib/python3.12/site-packages (from huggingface-hub>=0.20.0->sentence-transformers) (24.1)\n",
      "Requirement already satisfied: hf-xet<2.0.0,>=1.1.2 in /Users/larineouyang/anaconda3/envs/week2/lib/python3.12/site-packages (from huggingface-hub>=0.20.0->sentence-transformers) (1.1.3)\n",
      "Requirement already satisfied: langchain-text-splitters<1.0.0,>=0.3.8 in /Users/larineouyang/anaconda3/envs/week2/lib/python3.12/site-packages (from langchain<1.0.0,>=0.3.25->langchain-community) (0.3.8)\n",
      "Requirement already satisfied: pydantic<3.0.0,>=2.7.4 in /Users/larineouyang/anaconda3/envs/week2/lib/python3.12/site-packages (from langchain<1.0.0,>=0.3.25->langchain-community) (2.11.5)\n",
      "Requirement already satisfied: jsonpatch<2.0,>=1.33 in /Users/larineouyang/anaconda3/envs/week2/lib/python3.12/site-packages (from langchain-core<1.0.0,>=0.3.65->langchain-community) (1.33)\n",
      "Requirement already satisfied: httpx<1,>=0.23.0 in /Users/larineouyang/anaconda3/envs/week2/lib/python3.12/site-packages (from langsmith<0.4,>=0.1.125->langchain-community) (0.28.1)\n",
      "Requirement already satisfied: orjson<4.0.0,>=3.9.14 in /Users/larineouyang/anaconda3/envs/week2/lib/python3.12/site-packages (from langsmith<0.4,>=0.1.125->langchain-community) (3.10.18)\n",
      "Requirement already satisfied: requests-toolbelt<2.0.0,>=1.0.0 in /Users/larineouyang/anaconda3/envs/week2/lib/python3.12/site-packages (from langsmith<0.4,>=0.1.125->langchain-community) (1.0.0)\n",
      "Requirement already satisfied: zstandard<0.24.0,>=0.23.0 in /Users/larineouyang/anaconda3/envs/week2/lib/python3.12/site-packages (from langsmith<0.4,>=0.1.125->langchain-community) (0.23.0)\n",
      "Requirement already satisfied: openai>=1.14.0 in /Users/larineouyang/anaconda3/envs/week2/lib/python3.12/site-packages (from llama-index-agent-openai<0.5,>=0.4.0->llama-index) (1.86.0)\n",
      "Requirement already satisfied: aiosqlite in /Users/larineouyang/anaconda3/envs/week2/lib/python3.12/site-packages (from llama-index-core<0.13,>=0.12.42->llama-index) (0.21.0)\n",
      "Requirement already satisfied: banks<3,>=2.0.0 in /Users/larineouyang/anaconda3/envs/week2/lib/python3.12/site-packages (from llama-index-core<0.13,>=0.12.42->llama-index) (2.1.2)\n",
      "Requirement already satisfied: deprecated>=1.2.9.3 in /Users/larineouyang/anaconda3/envs/week2/lib/python3.12/site-packages (from llama-index-core<0.13,>=0.12.42->llama-index) (1.2.18)\n",
      "Requirement already satisfied: dirtyjson<2,>=1.0.8 in /Users/larineouyang/anaconda3/envs/week2/lib/python3.12/site-packages (from llama-index-core<0.13,>=0.12.42->llama-index) (1.0.8)\n",
      "Requirement already satisfied: filetype<2,>=1.2.0 in /Users/larineouyang/anaconda3/envs/week2/lib/python3.12/site-packages (from llama-index-core<0.13,>=0.12.42->llama-index) (1.2.0)\n",
      "Requirement already satisfied: nest-asyncio<2,>=1.5.8 in /Users/larineouyang/anaconda3/envs/week2/lib/python3.12/site-packages (from llama-index-core<0.13,>=0.12.42->llama-index) (1.6.0)\n",
      "Requirement already satisfied: networkx>=3.0 in /Users/larineouyang/anaconda3/envs/week2/lib/python3.12/site-packages (from llama-index-core<0.13,>=0.12.42->llama-index) (3.5)\n",
      "Requirement already satisfied: tiktoken>=0.7.0 in /Users/larineouyang/anaconda3/envs/week2/lib/python3.12/site-packages (from llama-index-core<0.13,>=0.12.42->llama-index) (0.9.0)\n",
      "Requirement already satisfied: wrapt in /Users/larineouyang/anaconda3/envs/week2/lib/python3.12/site-packages (from llama-index-core<0.13,>=0.12.42->llama-index) (1.17.2)\n",
      "Requirement already satisfied: llama-cloud==0.1.26 in /Users/larineouyang/anaconda3/envs/week2/lib/python3.12/site-packages (from llama-index-indices-managed-llama-cloud>=0.4.0->llama-index) (0.1.26)\n",
      "Requirement already satisfied: certifi>=2024.7.4 in /Users/larineouyang/anaconda3/envs/week2/lib/python3.12/site-packages (from llama-cloud==0.1.26->llama-index-indices-managed-llama-cloud>=0.4.0->llama-index) (2025.4.26)\n",
      "Requirement already satisfied: beautifulsoup4<5,>=4.12.3 in /Users/larineouyang/anaconda3/envs/week2/lib/python3.12/site-packages (from llama-index-readers-file<0.5,>=0.4.0->llama-index) (4.13.4)\n",
      "Requirement already satisfied: pandas<2.3.0 in /Users/larineouyang/anaconda3/envs/week2/lib/python3.12/site-packages (from llama-index-readers-file<0.5,>=0.4.0->llama-index) (2.2.3)\n",
      "Requirement already satisfied: pypdf<6,>=5.1.0 in /Users/larineouyang/anaconda3/envs/week2/lib/python3.12/site-packages (from llama-index-readers-file<0.5,>=0.4.0->llama-index) (5.6.0)\n",
      "Requirement already satisfied: striprtf<0.0.27,>=0.0.26 in /Users/larineouyang/anaconda3/envs/week2/lib/python3.12/site-packages (from llama-index-readers-file<0.5,>=0.4.0->llama-index) (0.0.26)\n",
      "Requirement already satisfied: llama-parse>=0.5.0 in /Users/larineouyang/anaconda3/envs/week2/lib/python3.12/site-packages (from llama-index-readers-llama-parse>=0.4.0->llama-index) (0.6.31)\n",
      "Requirement already satisfied: click in /Users/larineouyang/anaconda3/envs/week2/lib/python3.12/site-packages (from nltk>3.8.1->llama-index) (8.2.1)\n",
      "Requirement already satisfied: joblib in /Users/larineouyang/anaconda3/envs/week2/lib/python3.12/site-packages (from nltk>3.8.1->llama-index) (1.5.1)\n",
      "Requirement already satisfied: regex>=2021.8.3 in /Users/larineouyang/anaconda3/envs/week2/lib/python3.12/site-packages (from nltk>3.8.1->llama-index) (2024.11.6)\n",
      "Requirement already satisfied: python-dotenv>=0.21.0 in /Users/larineouyang/anaconda3/envs/week2/lib/python3.12/site-packages (from pydantic-settings<3.0.0,>=2.4.0->langchain-community) (1.1.0)\n",
      "Requirement already satisfied: typing-inspection>=0.4.0 in /Users/larineouyang/anaconda3/envs/week2/lib/python3.12/site-packages (from pydantic-settings<3.0.0,>=2.4.0->langchain-community) (0.4.1)\n",
      "Requirement already satisfied: charset_normalizer<4,>=2 in /Users/larineouyang/anaconda3/envs/week2/lib/python3.12/site-packages (from requests<3,>=2->langchain-community) (3.4.2)\n",
      "Requirement already satisfied: idna<4,>=2.5 in /Users/larineouyang/anaconda3/envs/week2/lib/python3.12/site-packages (from requests<3,>=2->langchain-community) (3.10)\n",
      "Requirement already satisfied: urllib3<3,>=1.21.1 in /Users/larineouyang/anaconda3/envs/week2/lib/python3.12/site-packages (from requests<3,>=2->langchain-community) (2.4.0)\n",
      "Requirement already satisfied: setuptools in /Users/larineouyang/anaconda3/envs/week2/lib/python3.12/site-packages (from torch>=1.11.0->sentence-transformers) (72.1.0)\n",
      "Requirement already satisfied: sympy>=1.13.3 in /Users/larineouyang/anaconda3/envs/week2/lib/python3.12/site-packages (from torch>=1.11.0->sentence-transformers) (1.14.0)\n",
      "Requirement already satisfied: jinja2 in /Users/larineouyang/anaconda3/envs/week2/lib/python3.12/site-packages (from torch>=1.11.0->sentence-transformers) (3.1.6)\n",
      "Requirement already satisfied: tokenizers<0.22,>=0.21 in /Users/larineouyang/anaconda3/envs/week2/lib/python3.12/site-packages (from transformers<5.0.0,>=4.41.0->sentence-transformers) (0.21.1)\n",
      "Requirement already satisfied: safetensors>=0.4.3 in /Users/larineouyang/anaconda3/envs/week2/lib/python3.12/site-packages (from transformers<5.0.0,>=4.41.0->sentence-transformers) (0.5.3)\n",
      "Requirement already satisfied: threadpoolctl>=3.1.0 in /Users/larineouyang/anaconda3/envs/week2/lib/python3.12/site-packages (from scikit-learn->sentence-transformers) (3.6.0)\n",
      "Requirement already satisfied: griffe in /Users/larineouyang/anaconda3/envs/week2/lib/python3.12/site-packages (from banks<3,>=2.0.0->llama-index-core<0.13,>=0.12.42->llama-index) (1.7.3)\n",
      "Requirement already satisfied: platformdirs in /Users/larineouyang/anaconda3/envs/week2/lib/python3.12/site-packages (from banks<3,>=2.0.0->llama-index-core<0.13,>=0.12.42->llama-index) (4.3.8)\n",
      "Requirement already satisfied: soupsieve>1.2 in /Users/larineouyang/anaconda3/envs/week2/lib/python3.12/site-packages (from beautifulsoup4<5,>=4.12.3->llama-index-readers-file<0.5,>=0.4.0->llama-index) (2.7)\n",
      "Requirement already satisfied: anyio in /Users/larineouyang/anaconda3/envs/week2/lib/python3.12/site-packages (from httpx<1,>=0.23.0->langsmith<0.4,>=0.1.125->langchain-community) (4.9.0)\n",
      "Requirement already satisfied: httpcore==1.* in /Users/larineouyang/anaconda3/envs/week2/lib/python3.12/site-packages (from httpx<1,>=0.23.0->langsmith<0.4,>=0.1.125->langchain-community) (1.0.9)\n",
      "Requirement already satisfied: h11>=0.16 in /Users/larineouyang/anaconda3/envs/week2/lib/python3.12/site-packages (from httpcore==1.*->httpx<1,>=0.23.0->langsmith<0.4,>=0.1.125->langchain-community) (0.16.0)\n",
      "Requirement already satisfied: jsonpointer>=1.9 in /Users/larineouyang/anaconda3/envs/week2/lib/python3.12/site-packages (from jsonpatch<2.0,>=1.33->langchain-core<1.0.0,>=0.3.65->langchain-community) (3.0.0)\n",
      "Requirement already satisfied: llama-cloud-services>=0.6.31 in /Users/larineouyang/anaconda3/envs/week2/lib/python3.12/site-packages (from llama-parse>=0.5.0->llama-index-readers-llama-parse>=0.4.0->llama-index) (0.6.31)\n",
      "Requirement already satisfied: distro<2,>=1.7.0 in /Users/larineouyang/anaconda3/envs/week2/lib/python3.12/site-packages (from openai>=1.14.0->llama-index-agent-openai<0.5,>=0.4.0->llama-index) (1.9.0)\n",
      "Requirement already satisfied: jiter<1,>=0.4.0 in /Users/larineouyang/anaconda3/envs/week2/lib/python3.12/site-packages (from openai>=1.14.0->llama-index-agent-openai<0.5,>=0.4.0->llama-index) (0.10.0)\n",
      "Requirement already satisfied: sniffio in /Users/larineouyang/anaconda3/envs/week2/lib/python3.12/site-packages (from openai>=1.14.0->llama-index-agent-openai<0.5,>=0.4.0->llama-index) (1.3.1)\n",
      "Requirement already satisfied: python-dateutil>=2.8.2 in /Users/larineouyang/anaconda3/envs/week2/lib/python3.12/site-packages (from pandas<2.3.0->llama-index-readers-file<0.5,>=0.4.0->llama-index) (2.9.0)\n",
      "Requirement already satisfied: pytz>=2020.1 in /Users/larineouyang/anaconda3/envs/week2/lib/python3.12/site-packages (from pandas<2.3.0->llama-index-readers-file<0.5,>=0.4.0->llama-index) (2025.1)\n",
      "Requirement already satisfied: tzdata>=2022.7 in /Users/larineouyang/anaconda3/envs/week2/lib/python3.12/site-packages (from pandas<2.3.0->llama-index-readers-file<0.5,>=0.4.0->llama-index) (2025.1)\n",
      "Requirement already satisfied: annotated-types>=0.6.0 in /Users/larineouyang/anaconda3/envs/week2/lib/python3.12/site-packages (from pydantic<3.0.0,>=2.7.4->langchain<1.0.0,>=0.3.25->langchain-community) (0.7.0)\n",
      "Requirement already satisfied: pydantic-core==2.33.2 in /Users/larineouyang/anaconda3/envs/week2/lib/python3.12/site-packages (from pydantic<3.0.0,>=2.7.4->langchain<1.0.0,>=0.3.25->langchain-community) (2.33.2)\n",
      "Requirement already satisfied: greenlet!=0.4.17 in /Users/larineouyang/anaconda3/envs/week2/lib/python3.12/site-packages (from sqlalchemy[asyncio]>=1.4.49->llama-index-core<0.13,>=0.12.42->llama-index) (3.2.3)\n",
      "Requirement already satisfied: mpmath<1.4,>=1.1.0 in /Users/larineouyang/anaconda3/envs/week2/lib/python3.12/site-packages (from sympy>=1.13.3->torch>=1.11.0->sentence-transformers) (1.3.0)\n",
      "Requirement already satisfied: mypy-extensions>=0.3.0 in /Users/larineouyang/anaconda3/envs/week2/lib/python3.12/site-packages (from typing-inspect<1,>=0.4.0->dataclasses-json<0.7,>=0.5.7->langchain-community) (1.1.0)\n",
      "Requirement already satisfied: MarkupSafe>=2.0 in /Users/larineouyang/anaconda3/envs/week2/lib/python3.12/site-packages (from jinja2->torch>=1.11.0->sentence-transformers) (3.0.2)\n",
      "Requirement already satisfied: six>=1.5 in /Users/larineouyang/anaconda3/envs/week2/lib/python3.12/site-packages (from python-dateutil>=2.8.2->pandas<2.3.0->llama-index-readers-file<0.5,>=0.4.0->llama-index) (1.16.0)\n",
      "Requirement already satisfied: colorama>=0.4 in /Users/larineouyang/anaconda3/envs/week2/lib/python3.12/site-packages (from griffe->banks<3,>=2.0.0->llama-index-core<0.13,>=0.12.42->llama-index) (0.4.6)\n",
      "Note: you may need to restart the kernel to use updated packages.\n"
     ]
    }
   ],
   "source": [
    "# from llama_index.core import VectorStoreIndex, SimpleDirectoryReader\n",
    "# from llama_index.llms.ollama import Ollama\n",
    "\n",
    "%pip install -U llama-index langchain-community sentence-transformers\n",
    "\n",
    "from llama_index.core import VectorStoreIndex, SimpleDirectoryReader, Settings\n",
    "from llama_index.llms.ollama import Ollama\n",
    "from langchain_community.embeddings import HuggingFaceEmbeddings"
   ]
  },
  {
   "cell_type": "code",
   "execution_count": 21,
   "id": "5cff11ee",
   "metadata": {},
   "outputs": [],
   "source": [
    "# Load documents\n",
    "documents = SimpleDirectoryReader(\"data\").load_data()"
   ]
  },
  {
   "cell_type": "code",
   "execution_count": 22,
   "id": "4aa2d454",
   "metadata": {},
   "outputs": [],
   "source": [
    "# Use Gemma 4B via Ollama\n",
    "ollama_llm = Ollama(model=\"gemma3:4b\")\n",
    "embed_model = HuggingFaceEmbeddings(model_name=\"all-MiniLM-L6-v2\")"
   ]
  },
  {
   "cell_type": "code",
   "execution_count": 23,
   "id": "0afd3dba",
   "metadata": {},
   "outputs": [],
   "source": [
    "# Build index using default embeddings (or add local ones if needed)\n",
    "# index = VectorStoreIndex.from_documents(documents, llm=ollama_llm)\n",
    "\n",
    "Settings.llm = ollama_llm\n",
    "Settings.embed_model = embed_model\n",
    "\n",
    "index = VectorStoreIndex.from_documents(documents)"
   ]
  },
  {
   "cell_type": "code",
   "execution_count": 24,
   "id": "9cd5e460",
   "metadata": {},
   "outputs": [
    {
     "name": "stdout",
     "output_type": "stream",
     "text": [
      "Congress shall make no law respecting an establishment of religion, or prohibiting the free exercise thereof; or abridging the freedom of speech, or of the press, or the right of the people peaceably to assemble, and to petition the Government for a redress of grievances.\n"
     ]
    }
   ],
   "source": [
    "# Query\n",
    "query_engine = index.as_query_engine()\n",
    "response = query_engine.query(\"What is the first article?\")\n",
    "print(response)"
   ]
  },
  {
   "cell_type": "code",
   "execution_count": 25,
   "id": "b5819091",
   "metadata": {},
   "outputs": [
    {
     "name": "stdout",
     "output_type": "stream",
     "text": [
      "The articles are about no law respecting an establishment of religion, or prohibiting the free exercise thereof; or abridging the freedom of speech, or of the press, or the right of the people peaceably to assemble, and to petition the Government for a redress of grievances. They also cover no Soldier shall be quartered in any house without consent, the right to be secure in persons, houses, papers, and effects, no person shall be held to answer for a capital, or otherwise infamous crime, and no private property be taken for public use without just compensation.\n"
     ]
    }
   ],
   "source": [
    "response2 = query_engine.query(\"What are all the articles about?\")\n",
    "print(response2)"
   ]
  }
 ],
 "metadata": {
  "kernelspec": {
   "display_name": "Python 3",
   "language": "python",
   "name": "python3"
  },
  "language_info": {
   "codemirror_mode": {
    "name": "ipython",
    "version": 3
   },
   "file_extension": ".py",
   "mimetype": "text/x-python",
   "name": "python",
   "nbconvert_exporter": "python",
   "pygments_lexer": "ipython3",
   "version": "3.12.5"
  }
 },
 "nbformat": 4,
 "nbformat_minor": 5
}
